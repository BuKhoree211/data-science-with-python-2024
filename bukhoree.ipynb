{
 "cells": [
  {
   "cell_type": "code",
   "execution_count": 1,
   "id": "731338c0-e93d-4a1a-92eb-3b79d12c636a",
   "metadata": {},
   "outputs": [
    {
     "name": "stdout",
     "output_type": "stream",
     "text": [
      "Requirement already satisfied: pandas in c:\\users\\04\\anaconda3\\lib\\site-packages (2.2.2)\n",
      "Requirement already satisfied: matplotlib in c:\\users\\04\\anaconda3\\lib\\site-packages (3.9.2)\n",
      "Requirement already satisfied: seaborn in c:\\users\\04\\anaconda3\\lib\\site-packages (0.13.2)\n",
      "Requirement already satisfied: numpy>=1.26.0 in c:\\users\\04\\anaconda3\\lib\\site-packages (from pandas) (1.26.4)\n",
      "Requirement already satisfied: python-dateutil>=2.8.2 in c:\\users\\04\\anaconda3\\lib\\site-packages (from pandas) (2.9.0.post0)\n",
      "Requirement already satisfied: pytz>=2020.1 in c:\\users\\04\\anaconda3\\lib\\site-packages (from pandas) (2024.1)\n",
      "Requirement already satisfied: tzdata>=2022.7 in c:\\users\\04\\anaconda3\\lib\\site-packages (from pandas) (2023.3)\n",
      "Requirement already satisfied: contourpy>=1.0.1 in c:\\users\\04\\anaconda3\\lib\\site-packages (from matplotlib) (1.2.0)\n",
      "Requirement already satisfied: cycler>=0.10 in c:\\users\\04\\anaconda3\\lib\\site-packages (from matplotlib) (0.11.0)\n",
      "Requirement already satisfied: fonttools>=4.22.0 in c:\\users\\04\\anaconda3\\lib\\site-packages (from matplotlib) (4.51.0)\n",
      "Requirement already satisfied: kiwisolver>=1.3.1 in c:\\users\\04\\anaconda3\\lib\\site-packages (from matplotlib) (1.4.4)\n",
      "Requirement already satisfied: packaging>=20.0 in c:\\users\\04\\anaconda3\\lib\\site-packages (from matplotlib) (24.1)\n",
      "Requirement already satisfied: pillow>=8 in c:\\users\\04\\anaconda3\\lib\\site-packages (from matplotlib) (10.4.0)\n",
      "Requirement already satisfied: pyparsing>=2.3.1 in c:\\users\\04\\anaconda3\\lib\\site-packages (from matplotlib) (3.1.2)\n",
      "Requirement already satisfied: six>=1.5 in c:\\users\\04\\anaconda3\\lib\\site-packages (from python-dateutil>=2.8.2->pandas) (1.16.0)\n"
     ]
    }
   ],
   "source": [
    "!pip install pandas matplotlib seaborn"
   ]
  },
  {
   "cell_type": "code",
   "execution_count": 6,
   "id": "5a43d0c1-f6b5-4b7c-a6d6-20f3d9b86abb",
   "metadata": {},
   "outputs": [],
   "source": [
    "import pandas as pd\n",
    "import matplotlib.pyplot as plt\n",
    "import seaborn as sns"
   ]
  },
  {
   "cell_type": "code",
   "execution_count": 16,
   "id": "5bb60d5d-a4ea-4306-bdf5-47edb710c50e",
   "metadata": {},
   "outputs": [
    {
     "data": {
      "text/html": [
       "<div>\n",
       "<style scoped>\n",
       "    .dataframe tbody tr th:only-of-type {\n",
       "        vertical-align: middle;\n",
       "    }\n",
       "\n",
       "    .dataframe tbody tr th {\n",
       "        vertical-align: top;\n",
       "    }\n",
       "\n",
       "    .dataframe thead th {\n",
       "        text-align: right;\n",
       "    }\n",
       "</style>\n",
       "<table border=\"1\" class=\"dataframe\">\n",
       "  <thead>\n",
       "    <tr style=\"text-align: right;\">\n",
       "      <th></th>\n",
       "      <th>Variant</th>\n",
       "      <th>Country</th>\n",
       "      <th>Date_Detected</th>\n",
       "      <th>Cases</th>\n",
       "      <th>Deaths</th>\n",
       "      <th>Recovered</th>\n",
       "      <th>Hospitalized</th>\n",
       "      <th>Transmission_Rate</th>\n",
       "      <th>Mutation_Count</th>\n",
       "      <th>Severity_Level</th>\n",
       "    </tr>\n",
       "  </thead>\n",
       "  <tbody>\n",
       "    <tr>\n",
       "      <th>0</th>\n",
       "      <td>Mu</td>\n",
       "      <td>USA</td>\n",
       "      <td>2022-03-19</td>\n",
       "      <td>38091</td>\n",
       "      <td>232</td>\n",
       "      <td>15458</td>\n",
       "      <td>1476</td>\n",
       "      <td>1.27</td>\n",
       "      <td>10</td>\n",
       "      <td>Moderate</td>\n",
       "    </tr>\n",
       "    <tr>\n",
       "      <th>1</th>\n",
       "      <td>Delta</td>\n",
       "      <td>Canada</td>\n",
       "      <td>2021-06-29</td>\n",
       "      <td>79157</td>\n",
       "      <td>1552</td>\n",
       "      <td>58030</td>\n",
       "      <td>3967</td>\n",
       "      <td>1.16</td>\n",
       "      <td>7</td>\n",
       "      <td>Moderate</td>\n",
       "    </tr>\n",
       "    <tr>\n",
       "      <th>2</th>\n",
       "      <td>Epsilon</td>\n",
       "      <td>UK</td>\n",
       "      <td>2022-07-18</td>\n",
       "      <td>7071</td>\n",
       "      <td>3270</td>\n",
       "      <td>83006</td>\n",
       "      <td>1976</td>\n",
       "      <td>2.24</td>\n",
       "      <td>14</td>\n",
       "      <td>Mild</td>\n",
       "    </tr>\n",
       "    <tr>\n",
       "      <th>3</th>\n",
       "      <td>Omicron</td>\n",
       "      <td>UK</td>\n",
       "      <td>2020-08-30</td>\n",
       "      <td>29239</td>\n",
       "      <td>2409</td>\n",
       "      <td>16401</td>\n",
       "      <td>385</td>\n",
       "      <td>0.98</td>\n",
       "      <td>16</td>\n",
       "      <td>Moderate</td>\n",
       "    </tr>\n",
       "    <tr>\n",
       "      <th>4</th>\n",
       "      <td>Mu</td>\n",
       "      <td>Germany</td>\n",
       "      <td>2023-09-29</td>\n",
       "      <td>85545</td>\n",
       "      <td>3512</td>\n",
       "      <td>4181</td>\n",
       "      <td>272</td>\n",
       "      <td>0.73</td>\n",
       "      <td>15</td>\n",
       "      <td>Severe</td>\n",
       "    </tr>\n",
       "  </tbody>\n",
       "</table>\n",
       "</div>"
      ],
      "text/plain": [
       "   Variant  Country Date_Detected  Cases  Deaths  Recovered  Hospitalized  \\\n",
       "0       Mu      USA    2022-03-19  38091     232      15458          1476   \n",
       "1    Delta   Canada    2021-06-29  79157    1552      58030          3967   \n",
       "2  Epsilon       UK    2022-07-18   7071    3270      83006          1976   \n",
       "3  Omicron       UK    2020-08-30  29239    2409      16401           385   \n",
       "4       Mu  Germany    2023-09-29  85545    3512       4181           272   \n",
       "\n",
       "   Transmission_Rate  Mutation_Count Severity_Level  \n",
       "0               1.27              10       Moderate  \n",
       "1               1.16               7       Moderate  \n",
       "2               2.24              14           Mild  \n",
       "3               0.98              16       Moderate  \n",
       "4               0.73              15         Severe  "
      ]
     },
     "execution_count": 16,
     "metadata": {},
     "output_type": "execute_result"
    }
   ],
   "source": [
    "# Replace 'your_file_path.csv' with the actual path to your CSV file\n",
    "df = pd.read_csv(r\"C:\\Users\\04\\Desktop\\xxx\\covid_variants_dataset.csv\")\n",
    "\n",
    "# Display the first few rows of the dataset to get an overview\n",
    "df.head()"
   ]
  },
  {
   "cell_type": "code",
   "execution_count": 18,
   "id": "599191aa-94b1-422c-9c9c-9fc926ec69d5",
   "metadata": {},
   "outputs": [
    {
     "name": "stdout",
     "output_type": "stream",
     "text": [
      "<class 'pandas.core.frame.DataFrame'>\n",
      "RangeIndex: 1000 entries, 0 to 999\n",
      "Data columns (total 10 columns):\n",
      " #   Column             Non-Null Count  Dtype  \n",
      "---  ------             --------------  -----  \n",
      " 0   Variant            1000 non-null   object \n",
      " 1   Country            1000 non-null   object \n",
      " 2   Date_Detected      1000 non-null   object \n",
      " 3   Cases              1000 non-null   int64  \n",
      " 4   Deaths             1000 non-null   int64  \n",
      " 5   Recovered          1000 non-null   int64  \n",
      " 6   Hospitalized       1000 non-null   int64  \n",
      " 7   Transmission_Rate  1000 non-null   float64\n",
      " 8   Mutation_Count     1000 non-null   int64  \n",
      " 9   Severity_Level     1000 non-null   object \n",
      "dtypes: float64(1), int64(5), object(4)\n",
      "memory usage: 78.3+ KB\n"
     ]
    }
   ],
   "source": [
    "# ตรวจสอบค่าที่หายไปในชุดข้อมูล\n",
    "df.isnull().sum()\n",
    "\n",
    "# ตรวจสอบประเภทข้อมูลของแต่ละคอลัมน์\n",
    "df.dtypes\n",
    "\n",
    "# สถิติเบื้องต้นของคอลัมน์ตัวเลข\n",
    "df.describe()\n",
    "\n",
    "# ข้อมูลโดยสรุป เช่น จำนวนข้อมูลที่ไม่เป็นค่า null และประเภทข้อมูล\n",
    "df.info()\n"
   ]
  },
  {
   "cell_type": "code",
   "execution_count": 22,
   "id": "7c239829-d721-43df-9222-4d6ca77a19e9",
   "metadata": {},
   "outputs": [
    {
     "name": "stdout",
     "output_type": "stream",
     "text": [
      "Index(['Variant', 'Country', 'Date_Detected', 'Cases', 'Deaths', 'Recovered',\n",
      "       'Hospitalized', 'Transmission_Rate', 'Mutation_Count',\n",
      "       'Severity_Level'],\n",
      "      dtype='object')\n"
     ]
    }
   ],
   "source": [
    "print(df.columns)"
   ]
  },
  {
   "cell_type": "code",
   "execution_count": 32,
   "id": "3617eba0-d542-45a8-88b6-30e032b83a1e",
   "metadata": {},
   "outputs": [
    {
     "name": "stderr",
     "output_type": "stream",
     "text": [
      "C:\\Users\\04\\AppData\\Local\\Temp\\ipykernel_15880\\2484712643.py:5: FutureWarning: DataFrame.fillna with 'method' is deprecated and will raise in a future version. Use obj.ffill() or obj.bfill() instead.\n",
      "  df.fillna(method='ffill', inplace=True)\n"
     ]
    }
   ],
   "source": [
    "# ลบคอลัมน์ที่มีค่าหายไป\n",
    "df = df.dropna(axis=1)  # ลบคอลัมน์ที่มีค่าหายไป\n",
    "\n",
    "# หรือ เติมค่าหายไปด้วยวิธี forward fill\n",
    "df.fillna(method='ffill', inplace=True)"
   ]
  },
  {
   "cell_type": "code",
   "execution_count": 36,
   "id": "c626b4aa-c642-466e-82b2-1b974bb8c95c",
   "metadata": {},
   "outputs": [
    {
     "data": {
      "image/png": "[encoded data removed]",
      "text/plain": [
       "<Figure size 1000x600 with 1 Axes>"
      ]
     },
     "metadata": {},
     "output_type": "display_data"
    }
   ],
   "source": [
    "variant_counts = df['Variant'].value_counts()\n",
    "\n",
    "# วาดกราฟแท่งแสดงการกระจายของสายพันธุ์\n",
    "plt.figure(figsize=(10, 6))\n",
    "sns.barplot(x=variant_counts.index, y=variant_counts.values)\n",
    "plt.title('Distribution of COVID-19 Variants')\n",
    "plt.xlabel('Variant')\n",
    "plt.ylabel('Count')\n",
    "plt.xticks(rotation=45)\n",
    "plt.show()"
   ]
  },
  {
   "cell_type": "code",
   "execution_count": 38,
   "id": "e84d7e3a-1a20-44fa-933d-3157f119d63e",
   "metadata": {},
   "outputs": [],
   "source": [
    "# บันทึก DataFrame ที่ทำความสะอาดแล้วเป็นไฟล์ CSV ใหม่\n",
    "df.to_csv('cleaned_covid_variants.csv', index=False)"
   ]
  }
 ],
 "metadata": {
  "kernelspec": {
   "display_name": "Python [conda env:base] *",
   "language": "python",
   "name": "conda-base-py"
  },
  "language_info": {
   "codemirror_mode": {
    "name": "ipython",
    "version": 3
   },
   "file_extension": ".py",
   "mimetype": "text/x-python",
   "name": "python",
   "nbconvert_exporter": "python",
   "pygments_lexer": "ipython3",
   "version": "3.12.7"
  }
 },
 "nbformat": 4,
 "nbformat_minor": 5
}
